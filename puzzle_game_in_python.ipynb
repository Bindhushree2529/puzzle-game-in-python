{
  "nbformat": 4,
  "nbformat_minor": 0,
  "metadata": {
    "colab": {
      "provenance": [],
      "authorship_tag": "ABX9TyPUPzQG8JPX6v7StlhN8v9g",
      "include_colab_link": true
    },
    "kernelspec": {
      "name": "python3",
      "display_name": "Python 3"
    },
    "language_info": {
      "name": "python"
    }
  },
  "cells": [
    {
      "cell_type": "markdown",
      "metadata": {
        "id": "view-in-github",
        "colab_type": "text"
      },
      "source": [
        "<a href=\"https://colab.research.google.com/github/Bindhushree2529/puzzle-game-in-python/blob/main/puzzle_game_in_python.ipynb\" target=\"_parent\"><img src=\"https://colab.research.google.com/assets/colab-badge.svg\" alt=\"Open In Colab\"/></a>"
      ]
    },
    {
      "cell_type": "code",
      "execution_count": 2,
      "metadata": {
        "colab": {
          "base_uri": "https://localhost:8080/"
        },
        "id": "9yN2q5rWYEsL",
        "outputId": "bd3e5cb0-f1e3-4f39-c1c0-b4e486dbd0c8"
      },
      "outputs": [
        {
          "output_type": "stream",
          "name": "stdout",
          "text": [
            "Welcome to the Word Scramble Game!\n",
            "Unscramble the letters to form a valid word.\n",
            "The scrambled word is: ovrdeepel\n",
            "Your guess: developer\n",
            "Congratulations! You guessed the word correctly.\n"
          ]
        }
      ],
      "source": [
        "import random\n",
        "\n",
        "# List of words for the game\n",
        "word_list = [\"python\", \"programming\", \"puzzle\", \"challenge\", \"developer\", \"computer\", \"keyboard\", \"mouse\", \"screen\", \"software\"]\n",
        "\n",
        "def scramble_word(word):\n",
        "    \"\"\"Scrambles the letters of the word.\"\"\"\n",
        "    word = list(word)\n",
        "    random.shuffle(word)\n",
        "    return ''.join(word)\n",
        "\n",
        "def word_scramble_game():\n",
        "    print(\"Welcome to the Word Scramble Game!\")\n",
        "    print(\"Unscramble the letters to form a valid word.\")\n",
        "\n",
        "    max_words = 5\n",
        "    score = 0\n",
        "\n",
        "    # Select a random set of words from the list\n",
        "    selected_words = random.sample(word_list, max_words)\n",
        "\n",
        "    for secret_word in selected_words:\n",
        "        scrambled_word = scramble_word(secret_word)\n",
        "        print(f\"\\nThe scrambled word is: {scrambled_word}\")\n",
        "\n",
        "        # Number of attempts allowed\n",
        "        max_attempts = 3\n",
        "        attempts = 0\n",
        "        correct = False\n",
        "\n",
        "        while attempts < max_attempts:\n",
        "            guess = input(\"Your guess: \").lower()\n",
        "            attempts += 1\n",
        "\n",
        "            if guess == secret_word:\n",
        "                print(\"Congratulations! You guessed the word correctly.\")\n",
        "                score += 1\n",
        "                correct = True\n",
        "                break\n",
        "            else:\n",
        "                print(\"That's not correct. Try again.\")\n",
        "\n",
        "        if not correct:\n",
        "            print(f\"Sorry, you've used all {max_attempts} attempts. The word was {secret_word}.\")\n",
        "\n",
        "    print(f\"\\nGame over! Your score: {score}/{max_words}\")\n",
        "\n",
        "if __name__ == \"__main__\":\n",
        "    word_scramble_game()\n"
      ]
    },
    {
      "cell_type": "code",
      "source": [],
      "metadata": {
        "id": "LGIxOR5hbNnh"
      },
      "execution_count": null,
      "outputs": []
    }
  ]
}